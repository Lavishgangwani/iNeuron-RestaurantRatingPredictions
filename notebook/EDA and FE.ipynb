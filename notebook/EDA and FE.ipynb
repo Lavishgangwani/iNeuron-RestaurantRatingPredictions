{
 "cells": [
  {
   "cell_type": "code",
   "execution_count": 1,
   "id": "6bfd5bad-4d58-4fd1-aa00-32353ebfeff6",
   "metadata": {},
   "outputs": [
    {
     "name": "stdout",
     "output_type": "stream",
     "text": [
      "g:\\sensor_fault_detection_ml_Project\\venv\\python.exe\n",
      "g:\\sensor_fault_detection_ml_Project\\venv\n"
     ]
    }
   ],
   "source": [
    "import sys\n",
    "print(sys.executable)\n",
    "print(sys.prefix)"
   ]
  },
  {
   "cell_type": "markdown",
   "id": "163654de-5558-47fc-858c-25ba9c8c98b5",
   "metadata": {},
   "source": [
    "# Restaurant Rating Prediction"
   ]
  },
  {
   "cell_type": "markdown",
   "id": "1ad5cb3a-7a33-42b3-8dfe-bed9d90ddc9c",
   "metadata": {},
   "source": [
    "## PROBLEM STATEMENT\n",
    "\n",
    "- The main goal of this project is to perform extensive Exploratory Data Analysis(EDA) on\n",
    "the Zomato Dataset and build an appropriate Machine Learning Model that will help\n",
    "various Zomato Restaurants to predict their respective Ratings based on certain\n",
    "features.\n",
    "\n",
    "## DATASET INFORMATION\n",
    "\n",
    "- The basic idea of analyzing the Zomato dataset is to get a fair idea about the factors affecting the establishment\n",
    "of different types of restaurant at different places in Bengaluru, aggregate rating of each restaurant, Bengaluru\n",
    "being one such city has more than 12,000 restaurants with restaurants serving dishes from all over the world.\n",
    "\n",
    "- The recorded data for each restaurant and each category was read and data for each restaurant was scraped individually. 15 variables were scraped in this phase. For each of the neighborhood and for each category their online_order, book_table, rate, votes, phone, location, rest_type, dish_liked, cuisines, approx_cost(for two people), reviews_list, menu_item was extracted. See section 5 for more details about the variables.\n",
    "\n",
    "## Attributes Description\n",
    "\n",
    "1. __url__: The web address or link to the restaurant's Zomato page.\n",
    "\n",
    "2. __address__: The physical address of the restaurant. \n",
    "\n",
    "3. __name__: The name of the restaurant. \n",
    "\n",
    "4. __online_order__: Indicates whether the restaurant offers online ordering (Yes/No). \n",
    "\n",
    "5. __book_table__: Indicates whether the restaurant offers table booking (Yes/No). \n",
    "\n",
    "6. __rate__: The rating of the restaurant. It represents the average rating given by customers, typically on a scale from 1 to 5.\n",
    "\n",
    "7. __votes__: The number of votes or reviews the restaurant has received. \n",
    "\n",
    "8. __phone__: The contact number of the restaurant. \n",
    "\n",
    "9. __location__: The locality or area where the restaurant is situated. \n",
    "\n",
    "10 __rest_type__: The type of restaurant (e.g., casual dining, café, quick bites).\n",
    "\n",
    "11. __dish_liked__: Popular dishes at the restaurant.\n",
    "\n",
    "12. __cuisines__: The types of cuisines offered by the restaurant (e.g., Italian, Chinese, Indian). \n",
    "\n",
    "13. __approx_cost(for two people)__: The approximate cost for two people to dine at the restaurant.\n",
    "\n",
    "14. __reviews_list__: A list of reviews given by customers. \n",
    "\n",
    "15. __menu_item__: Items available on the restaurant's menu.\n",
    "\n",
    "16. __listed_in(type)__: The category or type under which the restaurant is listed on Zomato (e.g., Delivery, Dine-out). \n",
    "\n",
    "17. __listed_in(city)__: The city in which the restaurant is located. "
   ]
  },
  {
   "cell_type": "code",
   "execution_count": 2,
   "id": "b47f100b-81f7-4749-aecd-9c6805b2ce6f",
   "metadata": {},
   "outputs": [],
   "source": [
    "#importing necessary Libraries\n",
    "\n",
    "import numpy as np\n",
    "import pandas as pd\n",
    "import matplotlib.pyplot as plt\n",
    "import seaborn as sns"
   ]
  },
  {
   "cell_type": "code",
   "execution_count": null,
   "id": "050d0eb0-27af-46ce-a22f-c1dcc57286d0",
   "metadata": {},
   "outputs": [],
   "source": []
  }
 ],
 "metadata": {
  "kernelspec": {
   "display_name": "Python 3 (ipykernel)",
   "language": "python",
   "name": "python3"
  },
  "language_info": {
   "codemirror_mode": {
    "name": "ipython",
    "version": 3
   },
   "file_extension": ".py",
   "mimetype": "text/x-python",
   "name": "python",
   "nbconvert_exporter": "python",
   "pygments_lexer": "ipython3",
   "version": "3.8.19"
  },
  "widgets": {
   "application/vnd.jupyter.widget-state+json": {
    "state": {},
    "version_major": 2,
    "version_minor": 0
   }
  }
 },
 "nbformat": 4,
 "nbformat_minor": 5
}
